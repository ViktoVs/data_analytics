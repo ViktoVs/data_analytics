{
 "cells": [
  {
   "cell_type": "code",
   "execution_count": null,
   "metadata": {},
   "outputs": [],
   "source": [
    "### https://huggingface.co/hkunlp/instructor-xl ###\n",
    "\n",
    "from InstructorEmbedding import INSTRUCTOR"
   ]
  },
  {
   "cell_type": "code",
   "execution_count": null,
   "metadata": {},
   "outputs": [],
   "source": [
    "model = INSTRUCTOR(\"hkunlp/instructor-xl\")\n",
    "# model.save(\"model_name\")\n",
    "# model = INSTRUCTOR(\"./model_name/\")\n",
    "sentence = \"Build Clusters\"\n",
    "instruction = \"Clustering\"\n",
    "embeddings = model.encode([[instruction, sentence]])\n",
    "print(embeddings)"
   ]
  },
  {
   "cell_type": "code",
   "execution_count": null,
   "metadata": {},
   "outputs": [],
   "source": [
    "# Read dataframe\n",
    "\n",
    "df = read_csv(\"path_to_csv\")"
   ]
  },
  {
   "cell_type": "code",
   "execution_count": null,
   "metadata": {},
   "outputs": [],
   "source": [
    "import sklearn.cluster\n",
    "\n",
    "sentences = list(df[\"relevant_column\"])\n",
    "embeddings = model.encode(sentences)\n",
    "\n",
    "clustering_model = sklearn.cluster.MiniBatchKMeans(n_cluster =  10)\n",
    "clustering_model.fit(embeddings)\n",
    "cluster_assignments = clustering_model.labels_\n",
    "\n",
    "print(cluster_assignments)"
   ]
  }
 ],
 "metadata": {
  "language_info": {
   "name": "python"
  }
 },
 "nbformat": 4,
 "nbformat_minor": 2
}
