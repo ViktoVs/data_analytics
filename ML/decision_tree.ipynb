{
 "cells": [
  {
   "cell_type": "markdown",
   "id": "98a4ba41-8b79-4c66-9bf4-34533dcb2988",
   "metadata": {},
   "source": [
    "<h1> Decision Tree Notebook </h1>"
   ]
  },
  {
   "cell_type": "code",
   "execution_count": 1,
   "id": "6b874852-e885-4e2b-81d8-b1c08ab5a11e",
   "metadata": {},
   "outputs": [],
   "source": [
    "# %pip install graphviz\n",
    "\n",
    "from sklearn.datasets import load_iris\n",
    "from sklearn import tree\n",
    "import graphviz \n"
   ]
  },
  {
   "cell_type": "code",
   "execution_count": null,
   "id": "9a1ff5b2-aa34-45d2-95b7-13ae6fc07016",
   "metadata": {},
   "outputs": [],
   "source": [
    "###### exchange data source #####\n",
    "\n",
    "iris = load_iris()\n",
    "X, y = iris.data, iris.target\n",
    "\n",
    "#################################\n"
   ]
  },
  {
   "cell_type": "code",
   "execution_count": null,
   "id": "e2d27b27-8a07-4787-b706-a33fb6833d1a",
   "metadata": {},
   "outputs": [],
   "source": [
    "### Fit the model\n",
    "clf = tree.DecisionTreeClassifier()\n",
    "clf = clf.fit(X, y)"
   ]
  },
  {
   "cell_type": "code",
   "execution_count": null,
   "id": "2e877a79-277a-4dc3-a76b-53d4c93a9077",
   "metadata": {},
   "outputs": [],
   "source": [
    "### Visualisation\n",
    "dot_data = tree.export_graphviz(clf, out_file=None, \n",
    "                     feature_names=iris.feature_names,  \n",
    "                     class_names=iris.target_names,  \n",
    "                     filled=True, rounded=True,  \n",
    "                     special_characters=True)  \n",
    "graph = graphviz.Source(dot_data)  \n",
    "# graph.render(\"iris\") ### saves the output in a pdf\n",
    "graph "
   ]
  }
 ],
 "metadata": {
  "kernelspec": {
   "display_name": "Python 3 (ipykernel)",
   "language": "python",
   "name": "python3"
  },
  "language_info": {
   "codemirror_mode": {
    "name": "ipython",
    "version": 3
   },
   "file_extension": ".py",
   "mimetype": "text/x-python",
   "name": "python",
   "nbconvert_exporter": "python",
   "pygments_lexer": "ipython3",
   "version": "3.10.6"
  }
 },
 "nbformat": 4,
 "nbformat_minor": 5
}
